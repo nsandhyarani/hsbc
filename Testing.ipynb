{
  "nbformat": 4,
  "nbformat_minor": 0,
  "metadata": {
    "colab": {
      "provenance": []
    },
    "kernelspec": {
      "name": "python3",
      "display_name": "Python 3"
    },
    "language_info": {
      "name": "python"
    }
  },
  "cells": [
    {
      "cell_type": "code",
      "execution_count": null,
      "metadata": {
        "id": "mho1gKtFkrUT"
      },
      "outputs": [],
      "source": [
        "# Load saved models\n",
        "autoencoder = load_model(\"autoencoder_model.h5\")\n",
        "scaler = joblib.load(\"scaler.pkl\")\n",
        "\n",
        "xgb = joblib.load(\"xgb_model.pkl\")\n",
        "cat = joblib.load(\"cat_model.pkl\")\n",
        "lgb = joblib.load(\"lgb_model.pkl\")\n",
        "\n",
        "meta_model = joblib.load(\"meta_model.pkl\")\n"
      ]
    },
    {
      "cell_type": "code",
      "source": [
        "# Feature engineering (example, same as before)\n",
        "X_test_new[\"log_amount\"] = np.log1p(X_test_new[\"amount\"])\n",
        "X_test_new[\"transaction_hour\"] = X_test_new[\"step\"] % 24\n",
        "X_test_new[\"is_night\"] = X_test_new[\"transaction_hour\"].apply(lambda x: 1 if 0 <= x <= 6 else 0)\n",
        "X_test_new[\"transaction_day\"] = X_test_new[\"step\"] // 24\n",
        "X_test_new[\"is_weekend\"] = X_test_new[\"transaction_day\"] % 7 >= 5\n",
        "\n",
        "features = ['age', 'gender', 'customer', 'merchant', 'category',\n",
        "            'log_amount', 'transaction_hour', 'is_night',\n",
        "            'transaction_day', 'is_weekend']\n",
        "\n",
        "# Scale\n",
        "X_test_scaled = scaler.transform(X_test_new[features])\n",
        "\n",
        "# Autoencoder anomaly score\n",
        "reconstructed = autoencoder.predict(X_test_scaled)\n",
        "mse = np.mean(np.power(X_test_scaled - reconstructed, 2), axis=1)\n",
        "X_test_new[\"anomaly_score\"] = mse\n",
        "\n",
        "# Prepare for stacked input\n",
        "X_test_for_stack = X_test_new[features + [\"anomaly_score\"]]\n",
        "\n",
        "# Base model predictions\n",
        "stacked_test = pd.DataFrame({\n",
        "    \"xgb\": xgb.predict_proba(X_test_for_stack)[:, 1],\n",
        "    \"cat\": cat.predict_proba(X_test_for_stack)[:, 1],\n",
        "    \"lgb\": lgb.predict_proba(X_test_for_stack)[:, 1]\n",
        "})\n",
        "\n",
        "# Final prediction using stacked meta-model\n",
        "final_preds = meta_model.predict(stacked_test)\n",
        "final_probs = meta_model.predict_proba(stacked_test)[:, 1]\n"
      ],
      "metadata": {
        "id": "cYmDxHEpkskn"
      },
      "execution_count": null,
      "outputs": []
    },
    {
      "cell_type": "code",
      "source": [
        "print(\"Final Prediction Labels:\", final_preds)\n",
        "print(\"Prediction Probabilities:\", final_probs)\n"
      ],
      "metadata": {
        "id": "9Nq-lodNkylY"
      },
      "execution_count": null,
      "outputs": []
    },
    {
      "cell_type": "code",
      "source": [
        "# 📦 1. Import Required Libraries\n",
        "import numpy as np\n",
        "import pandas as pd\n",
        "import joblib\n",
        "\n",
        "from sklearn.preprocessing import StandardScaler\n",
        "from tensorflow.keras.models import load_model\n",
        "\n",
        "# For model prediction\n",
        "import xgboost as xgb\n",
        "import catboost as cb\n",
        "import lightgbm as lgbm\n",
        "\n",
        "# Optional: suppress warnings\n",
        "import warnings\n",
        "warnings.filterwarnings(\"ignore\")"
      ],
      "metadata": {
        "id": "tQPdeZPemdMI"
      },
      "execution_count": null,
      "outputs": []
    },
    {
      "cell_type": "code",
      "source": [
        "# 🧠 2. Load Saved Models\n",
        "autoencoder = load_model(\"autoencoder_model.h5\")\n",
        "scaler = joblib.load(\"scaler.pkl\")\n",
        "\n",
        "xgb_model = joblib.load(\"xgb_model.pkl\")\n",
        "cat_model = joblib.load(\"cat_model.pkl\")\n",
        "lgb_model = joblib.load(\"lgb_model.pkl\")\n",
        "\n",
        "meta_model = joblib.load(\"meta_model.pkl\")\n",
        "\n",
        "# 📄 3. Load New Test Data (or use existing)\n",
        "# Replace this with your actual test DataFrame\n",
        "X_test_new = pd.read_csv(\"your_test_file.csv\")\n",
        "\n",
        "# 🛠 4. Feature Engineering (same logic used during training)\n",
        "X_test_new[\"log_amount\"] = np.log1p(X_test_new[\"amount\"])\n",
        "X_test_new[\"transaction_hour\"] = X_test_new[\"step\"] % 24\n",
        "X_test_new[\"is_night\"] = X_test_new[\"transaction_hour\"].apply(lambda x: 1 if 0 <= x <= 6 else 0)\n",
        "X_test_new[\"transaction_day\"] = X_test_new[\"step\"] // 24\n",
        "X_test_new[\"is_weekend\"] = X_test_new[\"transaction_day\"] % 7 >= 5\n",
        "\n",
        "# ✅ Features used for training\n",
        "features = ['age', 'gender', 'customer', 'merchant', 'category',\n",
        "            'log_amount', 'transaction_hour', 'is_night',\n",
        "            'transaction_day', 'is_weekend']\n",
        "\n",
        "#  5. One-hot encode or convert categorical if necessary (same as training)\n",
        "# If LabelEncoder or OneHotEncoder was used during training, apply it here too.\n",
        "# Skipped for simplicity — ensure you apply the same transformations!\n",
        "\n",
        "#  6. Scale Inputs (same scaler used in training)\n",
        "X_test_scaled = scaler.transform(X_test_new[features])\n",
        "\n",
        "# 🔍 7. Compute Autoencoder Anomaly Score\n",
        "reconstructed = autoencoder.predict(X_test_scaled)\n",
        "mse = np.mean(np.power(X_test_scaled - reconstructed, 2), axis=1)\n",
        "X_test_new[\"anomaly_score\"] = mse\n",
        "\n",
        "# 🧱 8. Prepare Stacked Features (input to base classifiers)\n",
        "X_test_for_stack = X_test_new[features + [\"anomaly_score\"]]\n",
        "\n",
        "# 🤖 9. Base Model Predictions\n",
        "stacked_test = pd.DataFrame({\n",
        "    \"xgb\": xgb_model.predict_proba(X_test_for_stack)[:, 1],\n",
        "    \"cat\": cat_model.predict_proba(X_test_for_stack)[:, 1],\n",
        "    \"lgb\": lgb_model.predict_proba(X_test_for_stack)[:, 1]\n",
        "})\n",
        "\n",
        "# 🧠 10. Meta Model Prediction (Final Output)\n",
        "final_preds = meta_model.predict(stacked_test)\n",
        "final_probs = meta_model.predict_proba(stacked_test)[:, 1]\n",
        "\n",
        "# 📢 11. Output\n",
        "print(\"✅ Final Prediction Labels:\", final_preds)\n",
        "print(\"📊 Final Prediction Probabilities:\", final_probs)\n"
      ],
      "metadata": {
        "id": "FxEuRrcOmZaO"
      },
      "execution_count": null,
      "outputs": []
    }
  ]
}